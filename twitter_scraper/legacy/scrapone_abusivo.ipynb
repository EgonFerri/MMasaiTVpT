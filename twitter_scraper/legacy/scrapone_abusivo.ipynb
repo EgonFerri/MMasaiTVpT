{
 "cells": [
  {
   "cell_type": "code",
   "execution_count": 1,
   "metadata": {},
   "outputs": [],
   "source": [
    "import snscrape.modules.twitter as sntwitter\n",
    "import pandas as pd\n",
    "import csv\n"
   ]
  },
  {
   "cell_type": "code",
   "execution_count": 126,
   "metadata": {},
   "outputs": [],
   "source": [
    "\n",
    "\n",
    "keyword = 'Covid'\n",
    "maxTweets = 30000\n",
    "\n",
    "#Open/create a file to append data to\n",
    "csvFile = open('result.csv', 'a', newline='', encoding='utf8')\n",
    "\n",
    "#Use csv writer\n",
    "csvWriter = csv.writer(csvFile)\n",
    "csvWriter.writerow(['id','date','tweet']) \n",
    "\n",
    "for i,tweet in enumerate(sntwitter.TwitterSearchScraper(keyword + 'since:2020-06-01 until:2020-06-30 -filter:links -filter:replies').get_items()) :\n",
    "        if i > maxTweets :\n",
    "            break      \n",
    "        csvWriter.writerow([tweet.id, tweet.date, tweet.renderedContent])\n",
    "csvFile.close()"
   ]
  },
  {
   "cell_type": "code",
   "execution_count": 4,
   "metadata": {},
   "outputs": [],
   "source": [
    "keyword = 'ilcollegio'\n",
    "maxTweets = 300\n",
    "\n",
    "#Open/create a file to append data to\n",
    "csvFile = open('result.csv', 'a', newline='', encoding='utf8')\n",
    "\n",
    "#Use csv writer\n",
    "csvWriter = csv.writer(csvFile)\n",
    "csvWriter.writerow(['id','date','tweet', 'media']) \n",
    "\n",
    "for i,tweet in enumerate(sntwitter.TwitterSearchScraper(keyword).get_items()) :\n",
    "        if i > maxTweets :\n",
    "            break\n",
    "        if tweet.media!=None:\n",
    "            try: \n",
    "                media=((tweet.media[0].previewUrl).replace('?format=', '.').replace('&name=small', ''))\n",
    "            except:\n",
    "                media=(tweet.media[0].thumbnailUrl)\n",
    "            csvWriter.writerow([tweet.id, tweet.date, tweet.renderedContent, media])\n",
    "csvFile.close()"
   ]
  },
  {
   "cell_type": "code",
   "execution_count": 109,
   "metadata": {},
   "outputs": [],
   "source": [
    "from datetime import date, timedelta\n",
    "yesterday = date.today() - timedelta(days=2)\n",
    "tdy=date.today().strftime('%Y-%m-%d')\n",
    "yrd=yesterday.strftime('%Y-%m-%d')"
   ]
  },
  {
   "cell_type": "code",
   "execution_count": 115,
   "metadata": {},
   "outputs": [
    {
     "data": {
      "text/plain": [
       "'since:2020-10-25 until:2020-10-27'"
      ]
     },
     "execution_count": 115,
     "metadata": {},
     "output_type": "execute_result"
    }
   ],
   "source": [
    "f\"since:{yrd} until:{tdy}\""
   ]
  },
  {
   "cell_type": "code",
   "execution_count": 42,
   "metadata": {},
   "outputs": [],
   "source": [
    "keyword = 'amici19'\n",
    "maxTweets = 5000\n",
    "\n",
    "lista=[]\n",
    "for i,tweet in enumerate(sntwitter.TwitterSearchScraper(keyword).get_items()) :\n",
    "        if i > maxTweets :\n",
    "            break\n",
    "        if tweet.media!=None:\n",
    "            try: \n",
    "                media=((tweet.media[0].previewUrl).replace('?format=', '.').replace('&name=small', ''))\n",
    "            except:\n",
    "                media=(tweet.media[0].thumbnailUrl)\n",
    "            lista.append([tweet.id, tweet.date, tweet.renderedContent, media, tweet.media])\n",
    "\n",
    "dataframe=pd.DataFrame(lista, columns =['id', 'date',  'text', 'url', 'url2'])"
   ]
  },
  {
   "cell_type": "code",
   "execution_count": 45,
   "metadata": {},
   "outputs": [
    {
     "data": {
      "text/plain": [
       "'https://pbs.twimg.com/media/EWrTgQgWkAE8NHp.jpg'"
      ]
     },
     "execution_count": 45,
     "metadata": {},
     "output_type": "execute_result"
    }
   ],
   "source": [
    "(dataframe['url2'][len(dataframe)-2][0].previewUrl).replace('?format=', '.').replace('&name=small', '')"
   ]
  },
  {
   "cell_type": "code",
   "execution_count": 43,
   "metadata": {},
   "outputs": [
    {
     "data": {
      "text/html": [
       "<div>\n",
       "<style scoped>\n",
       "    .dataframe tbody tr th:only-of-type {\n",
       "        vertical-align: middle;\n",
       "    }\n",
       "\n",
       "    .dataframe tbody tr th {\n",
       "        vertical-align: top;\n",
       "    }\n",
       "\n",
       "    .dataframe thead th {\n",
       "        text-align: right;\n",
       "    }\n",
       "</style>\n",
       "<table border=\"1\" class=\"dataframe\">\n",
       "  <thead>\n",
       "    <tr style=\"text-align: right;\">\n",
       "      <th></th>\n",
       "      <th>id</th>\n",
       "      <th>date</th>\n",
       "      <th>text</th>\n",
       "      <th>url</th>\n",
       "      <th>url2</th>\n",
       "    </tr>\n",
       "  </thead>\n",
       "  <tbody>\n",
       "    <tr>\n",
       "      <th>1966</th>\n",
       "      <td>1255056641604620290</td>\n",
       "      <td>2020-04-28 08:49:55+00:00</td>\n",
       "      <td>L'unico motivo per cui guarderò amici: #Amici1...</td>\n",
       "      <td>https://pbs.twimg.com/media/EWrbV8wX0AEUwiL.jpg</td>\n",
       "      <td>[Photo(previewUrl='https://pbs.twimg.com/media...</td>\n",
       "    </tr>\n",
       "    <tr>\n",
       "      <th>1967</th>\n",
       "      <td>1255054319101059072</td>\n",
       "      <td>2020-04-28 08:40:42+00:00</td>\n",
       "      <td>Javier super fan dei Ferragnez ahahah\\n#Javier...</td>\n",
       "      <td>https://pbs.twimg.com/media/EWrZP7eWAAAAw0-.jpg</td>\n",
       "      <td>[Photo(previewUrl='https://pbs.twimg.com/media...</td>\n",
       "    </tr>\n",
       "    <tr>\n",
       "      <th>1968</th>\n",
       "      <td>1255053707399639041</td>\n",
       "      <td>2020-04-28 08:38:16+00:00</td>\n",
       "      <td>sto ridendo più del dovuto #giuliamolino #Amic...</td>\n",
       "      <td>https://pbs.twimg.com/media/EWrYsYGWoAIsAzp.jpg</td>\n",
       "      <td>[Photo(previewUrl='https://pbs.twimg.com/media...</td>\n",
       "    </tr>\n",
       "    <tr>\n",
       "      <th>1969</th>\n",
       "      <td>1255048005885005824</td>\n",
       "      <td>2020-04-28 08:15:36+00:00</td>\n",
       "      <td>Buongiorno solo a Jacopino che ieri è stato co...</td>\n",
       "      <td>https://pbs.twimg.com/media/EWrTgQgWkAE8NHp.jpg</td>\n",
       "      <td>[Photo(previewUrl='https://pbs.twimg.com/media...</td>\n",
       "    </tr>\n",
       "    <tr>\n",
       "      <th>1970</th>\n",
       "      <td>1255042190470000640</td>\n",
       "      <td>2020-04-28 07:52:30+00:00</td>\n",
       "      <td>Ho appena scoperto che Random farà amici all s...</td>\n",
       "      <td>https://pbs.twimg.com/tweet_video_thumb/EWrONg...</td>\n",
       "      <td>[Gif(thumbnailUrl='https://pbs.twimg.com/tweet...</td>\n",
       "    </tr>\n",
       "  </tbody>\n",
       "</table>\n",
       "</div>"
      ],
      "text/plain": [
       "                       id                      date  \\\n",
       "1966  1255056641604620290 2020-04-28 08:49:55+00:00   \n",
       "1967  1255054319101059072 2020-04-28 08:40:42+00:00   \n",
       "1968  1255053707399639041 2020-04-28 08:38:16+00:00   \n",
       "1969  1255048005885005824 2020-04-28 08:15:36+00:00   \n",
       "1970  1255042190470000640 2020-04-28 07:52:30+00:00   \n",
       "\n",
       "                                                   text  \\\n",
       "1966  L'unico motivo per cui guarderò amici: #Amici1...   \n",
       "1967  Javier super fan dei Ferragnez ahahah\\n#Javier...   \n",
       "1968  sto ridendo più del dovuto #giuliamolino #Amic...   \n",
       "1969  Buongiorno solo a Jacopino che ieri è stato co...   \n",
       "1970  Ho appena scoperto che Random farà amici all s...   \n",
       "\n",
       "                                                    url  \\\n",
       "1966    https://pbs.twimg.com/media/EWrbV8wX0AEUwiL.jpg   \n",
       "1967    https://pbs.twimg.com/media/EWrZP7eWAAAAw0-.jpg   \n",
       "1968    https://pbs.twimg.com/media/EWrYsYGWoAIsAzp.jpg   \n",
       "1969    https://pbs.twimg.com/media/EWrTgQgWkAE8NHp.jpg   \n",
       "1970  https://pbs.twimg.com/tweet_video_thumb/EWrONg...   \n",
       "\n",
       "                                                   url2  \n",
       "1966  [Photo(previewUrl='https://pbs.twimg.com/media...  \n",
       "1967  [Photo(previewUrl='https://pbs.twimg.com/media...  \n",
       "1968  [Photo(previewUrl='https://pbs.twimg.com/media...  \n",
       "1969  [Photo(previewUrl='https://pbs.twimg.com/media...  \n",
       "1970  [Gif(thumbnailUrl='https://pbs.twimg.com/tweet...  "
      ]
     },
     "execution_count": 43,
     "metadata": {},
     "output_type": "execute_result"
    }
   ],
   "source": [
    "dataframe.tail()"
   ]
  }
 ],
 "metadata": {
  "kernelspec": {
   "display_name": "Python 3",
   "language": "python",
   "name": "python3"
  },
  "language_info": {
   "codemirror_mode": {
    "name": "ipython",
    "version": 3
   },
   "file_extension": ".py",
   "mimetype": "text/x-python",
   "name": "python",
   "nbconvert_exporter": "python",
   "pygments_lexer": "ipython3",
   "version": "3.7.6"
  }
 },
 "nbformat": 4,
 "nbformat_minor": 4
}
